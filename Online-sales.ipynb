{
 "cells": [
  {
   "cell_type": "markdown",
   "metadata": {},
   "source": [
    "# Exploretory data analysis of the Online  Retail data\n",
    "\n",
    "### About the dataset\n",
    "\n",
    "The dataset contains the products, sold in vairious countries. It has 8 columns and 541909 rows."
   ]
  },
  {
   "cell_type": "markdown",
   "metadata": {},
   "source": [
    "## Following questions can be asked:\n",
    "\n",
    "**CEO Questions:**\n",
    "1. What are the top-selling products in terms of revenue, and how do they contribute to overall sales?\n",
    "2. Which customer segments generate the highest revenue, and how can we target them more effectively?\n",
    "3. Are there any specific countries or regions where our sales are particularly strong, and how can we leverage this information for expansion?\n",
    "4. Can you identify any trends or patterns in customer purchasing behavior that could help us optimize our inventory management and supply chain?\n",
    "\n",
    "**CMO Questions:**\n",
    "1. How effective are our marketing campaigns in driving sales, and which channels or strategies have been most successful?\n",
    "2. Are there any customer segments that are more responsive to our marketing efforts, and how can we tailor our messaging to better engage them?\n",
    "3. Which products have the highest customer satisfaction ratings, and how can we use this information to inform our marketing campaigns?\n",
    "4. Can you identify any untapped market segments or demographics that we should consider targeting to drive growth?\n",
    "\n",
    "By addressing these questions, we can provide valuable insights to the CEO and CMO, enabling them to make informed decisions about the business's performance, expansion plans, and marketing strategies."
   ]
  },
  {
   "cell_type": "code",
   "execution_count": 12,
   "metadata": {},
   "outputs": [],
   "source": [
    "import pandas as pd\n",
    "import numpy as np\n",
    "import seaborn as sns\n",
    "import matplotlib.pyplot as plt"
   ]
  },
  {
   "cell_type": "code",
   "execution_count": 2,
   "metadata": {},
   "outputs": [
    {
     "data": {
      "text/plain": [
       "'/Users/arunp77/Documents/Data-science/Data-analysis-projects'"
      ]
     },
     "execution_count": 2,
     "metadata": {},
     "output_type": "execute_result"
    }
   ],
   "source": [
    "%pwd"
   ]
  },
  {
   "cell_type": "code",
   "execution_count": 3,
   "metadata": {},
   "outputs": [],
   "source": [
    "df = pd.read_excel('/Users/arunp77/Desktop/Online Retail.xlsx')"
   ]
  },
  {
   "cell_type": "code",
   "execution_count": 4,
   "metadata": {},
   "outputs": [
    {
     "data": {
      "text/html": [
       "<div>\n",
       "<style scoped>\n",
       "    .dataframe tbody tr th:only-of-type {\n",
       "        vertical-align: middle;\n",
       "    }\n",
       "\n",
       "    .dataframe tbody tr th {\n",
       "        vertical-align: top;\n",
       "    }\n",
       "\n",
       "    .dataframe thead th {\n",
       "        text-align: right;\n",
       "    }\n",
       "</style>\n",
       "<table border=\"1\" class=\"dataframe\">\n",
       "  <thead>\n",
       "    <tr style=\"text-align: right;\">\n",
       "      <th></th>\n",
       "      <th>InvoiceNo</th>\n",
       "      <th>StockCode</th>\n",
       "      <th>Description</th>\n",
       "      <th>Quantity</th>\n",
       "      <th>InvoiceDate</th>\n",
       "      <th>UnitPrice</th>\n",
       "      <th>CustomerID</th>\n",
       "      <th>Country</th>\n",
       "    </tr>\n",
       "  </thead>\n",
       "  <tbody>\n",
       "    <tr>\n",
       "      <th>0</th>\n",
       "      <td>536365</td>\n",
       "      <td>85123A</td>\n",
       "      <td>WHITE HANGING HEART T-LIGHT HOLDER</td>\n",
       "      <td>6</td>\n",
       "      <td>2010-12-01 08:26:00</td>\n",
       "      <td>2.55</td>\n",
       "      <td>17850.0</td>\n",
       "      <td>United Kingdom</td>\n",
       "    </tr>\n",
       "    <tr>\n",
       "      <th>1</th>\n",
       "      <td>536365</td>\n",
       "      <td>71053</td>\n",
       "      <td>WHITE METAL LANTERN</td>\n",
       "      <td>6</td>\n",
       "      <td>2010-12-01 08:26:00</td>\n",
       "      <td>3.39</td>\n",
       "      <td>17850.0</td>\n",
       "      <td>United Kingdom</td>\n",
       "    </tr>\n",
       "    <tr>\n",
       "      <th>2</th>\n",
       "      <td>536365</td>\n",
       "      <td>84406B</td>\n",
       "      <td>CREAM CUPID HEARTS COAT HANGER</td>\n",
       "      <td>8</td>\n",
       "      <td>2010-12-01 08:26:00</td>\n",
       "      <td>2.75</td>\n",
       "      <td>17850.0</td>\n",
       "      <td>United Kingdom</td>\n",
       "    </tr>\n",
       "    <tr>\n",
       "      <th>3</th>\n",
       "      <td>536365</td>\n",
       "      <td>84029G</td>\n",
       "      <td>KNITTED UNION FLAG HOT WATER BOTTLE</td>\n",
       "      <td>6</td>\n",
       "      <td>2010-12-01 08:26:00</td>\n",
       "      <td>3.39</td>\n",
       "      <td>17850.0</td>\n",
       "      <td>United Kingdom</td>\n",
       "    </tr>\n",
       "    <tr>\n",
       "      <th>4</th>\n",
       "      <td>536365</td>\n",
       "      <td>84029E</td>\n",
       "      <td>RED WOOLLY HOTTIE WHITE HEART.</td>\n",
       "      <td>6</td>\n",
       "      <td>2010-12-01 08:26:00</td>\n",
       "      <td>3.39</td>\n",
       "      <td>17850.0</td>\n",
       "      <td>United Kingdom</td>\n",
       "    </tr>\n",
       "  </tbody>\n",
       "</table>\n",
       "</div>"
      ],
      "text/plain": [
       "  InvoiceNo StockCode                          Description  Quantity  \\\n",
       "0    536365    85123A   WHITE HANGING HEART T-LIGHT HOLDER         6   \n",
       "1    536365     71053                  WHITE METAL LANTERN         6   \n",
       "2    536365    84406B       CREAM CUPID HEARTS COAT HANGER         8   \n",
       "3    536365    84029G  KNITTED UNION FLAG HOT WATER BOTTLE         6   \n",
       "4    536365    84029E       RED WOOLLY HOTTIE WHITE HEART.         6   \n",
       "\n",
       "          InvoiceDate  UnitPrice  CustomerID         Country  \n",
       "0 2010-12-01 08:26:00       2.55     17850.0  United Kingdom  \n",
       "1 2010-12-01 08:26:00       3.39     17850.0  United Kingdom  \n",
       "2 2010-12-01 08:26:00       2.75     17850.0  United Kingdom  \n",
       "3 2010-12-01 08:26:00       3.39     17850.0  United Kingdom  \n",
       "4 2010-12-01 08:26:00       3.39     17850.0  United Kingdom  "
      ]
     },
     "execution_count": 4,
     "metadata": {},
     "output_type": "execute_result"
    }
   ],
   "source": [
    "df.head()"
   ]
  },
  {
   "cell_type": "code",
   "execution_count": 5,
   "metadata": {},
   "outputs": [
    {
     "data": {
      "text/plain": [
       "(541909, 8)"
      ]
     },
     "execution_count": 5,
     "metadata": {},
     "output_type": "execute_result"
    }
   ],
   "source": [
    "df.shape"
   ]
  },
  {
   "cell_type": "markdown",
   "metadata": {},
   "source": [
    "## CEO questions"
   ]
  },
  {
   "cell_type": "markdown",
   "metadata": {},
   "source": [
    "**Question:1** What are the top-selling products in terms of revenue, and how do they contribute to overall sales?\n",
    "\n",
    "**Answer:** Analyzing the top-selling products in terms of revenue and their contribution to overall sales provides insights into a company's financial health, market demand, product performance, sales strategy, and competitive landscape. It helps identify revenue generators, understand market demand, evaluate product success, optimize sales strategies, and assess competition. This information guides decision-making and drives future growth."
   ]
  },
  {
   "cell_type": "code",
   "execution_count": 6,
   "metadata": {},
   "outputs": [
    {
     "name": "stdout",
     "output_type": "stream",
     "text": [
      "Top-selling products:\n",
      "Description\n",
      "DOTCOM POSTAGE                        206245.48\n",
      "REGENCY CAKESTAND 3 TIER              164762.19\n",
      "WHITE HANGING HEART T-LIGHT HOLDER     99668.47\n",
      "PARTY BUNTING                          98302.98\n",
      "JUMBO BAG RED RETROSPOT                92356.03\n",
      "RABBIT NIGHT LIGHT                     66756.59\n",
      "POSTAGE                                66230.64\n",
      "PAPER CHAIN KIT 50'S CHRISTMAS         63791.94\n",
      "ASSORTED COLOUR BIRD ORNAMENT          58959.73\n",
      "CHILLI LIGHTS                          53768.06\n",
      "Name: Revenue, dtype: float64\n",
      "\n",
      "Contribution to overall sales:\n",
      "Description\n",
      "DOTCOM POSTAGE                        2.115827\n",
      "REGENCY CAKESTAND 3 TIER              1.690259\n",
      "WHITE HANGING HEART T-LIGHT HOLDER    1.022477\n",
      "PARTY BUNTING                         1.008469\n",
      "JUMBO BAG RED RETROSPOT               0.947460\n",
      "RABBIT NIGHT LIGHT                    0.684841\n",
      "POSTAGE                               0.679446\n",
      "PAPER CHAIN KIT 50'S CHRISTMAS        0.654427\n",
      "ASSORTED COLOUR BIRD ORNAMENT         0.604855\n",
      "CHILLI LIGHTS                         0.551595\n",
      "Name: Revenue, dtype: float64\n"
     ]
    }
   ],
   "source": [
    "# Calculating the revenue for each product\n",
    "df['Revenue'] = df['Quantity'] * df['UnitPrice']\n",
    "\n",
    "# Grouping by product and calculating the total revenue\n",
    "product_revenue = df.groupby('Description')['Revenue'].sum().sort_values(ascending=False)\n",
    "\n",
    "# Geting the top-selling products\n",
    "top_selling_products = product_revenue.head(10)\n",
    "\n",
    "# Calculating contribution to overall sales\n",
    "total_sales = df['Revenue'].sum()\n",
    "contribution = top_selling_products / total_sales * 100\n",
    "\n",
    "# Printing the top-selling products and their contribution to sales\n",
    "print(\"Top-selling products:\")\n",
    "print(top_selling_products)\n",
    "print(\"\\nContribution to overall sales:\")\n",
    "print(contribution)"
   ]
  },
  {
   "cell_type": "markdown",
   "metadata": {},
   "source": [
    "**Question:2** Which customer segments generate the highest revenue, and how can we target them more effectively?\n",
    "\n",
    "**Answer:** Analyzing customer segments that generate the highest revenue helps identify the most valuable customer groups. By understanding their characteristics and preferences, companies can target them more effectively. This analysis provides insights into revenue drivers, customer behavior, and opportunities for tailored marketing strategies. It helps optimize resource allocation, enhance customer satisfaction, and maximize revenue potential."
   ]
  },
  {
   "cell_type": "code",
   "execution_count": 7,
   "metadata": {},
   "outputs": [
    {
     "name": "stdout",
     "output_type": "stream",
     "text": [
      "Top revenue-generating customer segments:\n",
      "CustomerID\n",
      "14646.0    279489.02\n",
      "18102.0    256438.49\n",
      "17450.0    187482.17\n",
      "14911.0    132572.62\n",
      "12415.0    123725.45\n",
      "Name: Revenue, dtype: float64\n"
     ]
    }
   ],
   "source": [
    "# Group by customer segment and calculate total revenue\n",
    "segment_revenue = df.groupby('CustomerID')['Revenue'].sum().sort_values(ascending=False)\n",
    "\n",
    "# Get top revenue-generating customer segments\n",
    "top_segments = segment_revenue.head(5)\n",
    "\n",
    "# Print top revenue-generating customer segments\n",
    "print(\"Top revenue-generating customer segments:\")\n",
    "print(top_segments)\n"
   ]
  },
  {
   "cell_type": "markdown",
   "metadata": {},
   "source": [
    "**Question:3** Are there any specific countries or regions where our sales are particularly strong, and how can we leverage this information for expansion?\n",
    "\n",
    "**Answer:** Identifying regions with strong sales provides valuable insights for expansion. It highlights potential markets, guides market analysis, tailors strategies, and mitigates risks. This information helps the company make informed decisions and maximize growth opportunities."
   ]
  },
  {
   "cell_type": "code",
   "execution_count": 8,
   "metadata": {},
   "outputs": [
    {
     "name": "stdout",
     "output_type": "stream",
     "text": [
      "Countries with highest sales:\n",
      "Country\n",
      "United Kingdom    8187806.364\n",
      "Netherlands        284661.540\n",
      "EIRE               263276.820\n",
      "Germany            221698.210\n",
      "France             197403.900\n",
      "Name: Revenue, dtype: float64\n"
     ]
    }
   ],
   "source": [
    "# Group by country and calculate total revenue\n",
    "country_revenue = df.groupby('Country')['Revenue'].sum().sort_values(ascending=False)\n",
    "\n",
    "# Get countries with highest sales\n",
    "top_countries = country_revenue.head(5)\n",
    "\n",
    "# Print countries with highest sales\n",
    "print(\"Countries with highest sales:\")\n",
    "print(top_countries)"
   ]
  },
  {
   "cell_type": "markdown",
   "metadata": {},
   "source": [
    "**Question:4** Can you identify any trends or patterns in customer purchasing behavior that could help us optimize our inventory management and supply chain?\n",
    "\n",
    "**Answer:** Analyzing customer purchasing behavior helps optimize inventory management and the supply chain. By segmenting customers, forecasting demand, implementing just-in-time inventory, collaborating with suppliers, and utilizing technology, companies can improve efficiency and meet customer needs effectively."
   ]
  },
  {
   "cell_type": "code",
   "execution_count": 25,
   "metadata": {},
   "outputs": [
    {
     "data": {
      "image/png": "[encoded data removed]",
      "text/plain": [
       "<Figure size 640x480 with 1 Axes>"
      ]
     },
     "metadata": {},
     "output_type": "display_data"
    }
   ],
   "source": [
    "# Group by month and calculate total revenue\n",
    "df['InvoiceDate'] = pd.to_datetime(df['InvoiceDate'])\n",
    "df['Month'] = df['InvoiceDate'].dt.month\n",
    "monthly_revenue = df.groupby('Month')['Revenue'].sum()\n",
    "\n",
    "# Plot monthly revenue trend\n",
    "plt.plot(monthly_revenue.index, monthly_revenue.values)\n",
    "plt.xlabel('Month')\n",
    "plt.ylabel('Revenue')\n",
    "plt.title('Monthly Revenue Trend')\n",
    "plt.show()\n"
   ]
  },
  {
   "cell_type": "markdown",
   "metadata": {},
   "source": [
    "Clearly the revvenue increase with time. By analyzing the graph, we can observe the revenue performance over the months. If the line consistently moves upward, it suggests a consistent growth in revenue. On the other hand, if the line fluctuates or shows a downward trend, it indicates variations or a decline in revenue.\n",
    "This revenue trend information can be valuable for understanding the financial performance of a business. It can help identify periods of growth, assess the effectiveness of marketing campaigns, and make informed decisions regarding resource allocation and business strategies."
   ]
  },
  {
   "cell_type": "markdown",
   "metadata": {},
   "source": [
    "## CMO Questions:\n",
    "**Question:1** How effective are our marketing campaigns in driving sales, and which channels or strategies have been most successful?\n",
    "\n",
    "**Answer:** To evaluate marketing effectiveness, track conversions, analyze attribution, assess ROI, analyze customer behavior, gather feedback, and conduct A/B testing. This helps identify successful channels or strategies and informs future marketing decisions for improved sales performance."
   ]
  },
  {
   "cell_type": "code",
   "execution_count": 29,
   "metadata": {},
   "outputs": [
    {
     "data": {
      "image/png": "[encoded data removed]",
      "text/plain": [
       "<Figure size 1000x600 with 1 Axes>"
      ]
     },
     "metadata": {},
     "output_type": "display_data"
    },
    {
     "name": "stdout",
     "output_type": "stream",
     "text": [
      "Top revenue-generating channels:\n",
      "Description\n",
      "DOTCOM POSTAGE                        206245.48\n",
      "REGENCY CAKESTAND 3 TIER              164762.19\n",
      "WHITE HANGING HEART T-LIGHT HOLDER     99668.47\n",
      "PARTY BUNTING                          98302.98\n",
      "JUMBO BAG RED RETROSPOT                92356.03\n",
      "Name: Revenue, dtype: float64\n"
     ]
    }
   ],
   "source": [
    "# Group by marketing channel and calculate total revenue\n",
    "channel_revenue = df.groupby('Description')['Revenue'].sum().sort_values(ascending=False)\n",
    "\n",
    "# Get top revenue-generating channels\n",
    "top_channels = channel_revenue.head(5)\n",
    "\n",
    "# Plot the revenue generated by each channel\n",
    "plt.figure(figsize=(10, 6))  \n",
    "plt.bar(top_channels.index, top_channels.values, color='skyblue')  \n",
    "plt.xlabel('Marketing Channel', fontsize=10) \n",
    "plt.ylabel('Revenue', fontsize=10) \n",
    "plt.title('Revenue by Marketing Channel', fontsize=14)  \n",
    "plt.xticks(rotation=45, fontsize=8)  \n",
    "plt.yticks(fontsize=8) \n",
    "plt.grid(axis='y', linestyle='--')  \n",
    "plt.tight_layout()  \n",
    "plt.show()\n",
    "\n",
    "# Print the top revenue-generating channels\n",
    "print(\"Top revenue-generating channels:\")\n",
    "print(top_channels)"
   ]
  },
  {
   "cell_type": "markdown",
   "metadata": {},
   "source": [
    "**Question:2** Are there any customer segments that are more responsive to our marketing efforts, and how can we tailor our messaging to better engage them?\n",
    "\n",
    "**Answer:** Analyze customer data to identify responsive segments. Tailor messaging based on their characteristics and behaviors. Personalize content, optimize channels, conduct A/B testing, gather feedback, and continuously adapt. This improves marketing effectiveness and engages responsive customers."
   ]
  },
  {
   "cell_type": "code",
   "execution_count": 19,
   "metadata": {},
   "outputs": [
    {
     "name": "stdout",
     "output_type": "stream",
     "text": [
      "Segments with the highest average revenue:\n",
      "CustomerID\n",
      "15098.0    8055.78\n",
      "17448.0    4287.63\n",
      "17846.0    2033.10\n",
      "15369.0    1592.49\n",
      "12503.0    1126.00\n",
      "Name: UnitPrice, dtype: float64\n",
      "Segments with the highest conversion rate:\n",
      "CustomerID\n",
      "12346.0    0.000457\n",
      "12347.0    0.041629\n",
      "12348.0    0.007091\n",
      "12349.0    0.016697\n",
      "12350.0    0.003888\n",
      "dtype: float64\n"
     ]
    }
   ],
   "source": [
    "# Group by customer segment and calculate total revenue\n",
    "segment_revenue = df.groupby('CustomerID')['UnitPrice'].sum().sort_values(ascending=False)\n",
    "\n",
    "# Group by customer segment and calculate average revenue per customer\n",
    "segment_avg_revenue = df.groupby('CustomerID')['UnitPrice'].mean().sort_values(ascending=False)\n",
    "\n",
    "# Group by customer segment and calculate conversion rate\n",
    "segment_conversion_rate = df.groupby('CustomerID').size() / df['CustomerID'].nunique()\n",
    "\n",
    "# Get segments with the highest average revenue\n",
    "top_revenue_segments = segment_avg_revenue.head(5)\n",
    "\n",
    "# Get segments with the highest conversion rate\n",
    "top_conversion_segments = segment_conversion_rate.head(5)\n",
    "\n",
    "# Print segments with the highest average revenue\n",
    "print(\"Segments with the highest average revenue:\")\n",
    "print(top_revenue_segments)\n",
    "\n",
    "# Print segments with the highest conversion rate\n",
    "print(\"Segments with the highest conversion rate:\")\n",
    "print(top_conversion_segments)\n"
   ]
  },
  {
   "cell_type": "markdown",
   "metadata": {},
   "source": [
    "**Question:3** Which products have the highest customer satisfaction ratings, and how can we use this information to inform our marketing campaigns?\n",
    "\n",
    "**Answer:** Identify products with the highest customer satisfaction ratings. Use this information to inform marketing campaigns by highlighting these products' positive attributes, emphasizing customer testimonials, and showcasing their benefits. This helps build trust, attract new customers, and drive sales.\n",
    "\n",
    "> There are multiple ways to answer this question. The first approach is to consider customer satisfaction ratings. By analyzing customer ratings, we can identify which products have the highest satisfaction levels. Another approach is to examine the quantity of a product that is bought. Generally, if a product is purchased by a larger number of customers, it can be inferred that the customers are satisfied with it. Both approaches provide valuable insights into customer satisfaction and can be used to inform marketing campaigns."
   ]
  },
  {
   "cell_type": "code",
   "execution_count": 21,
   "metadata": {},
   "outputs": [
    {
     "name": "stdout",
     "output_type": "stream",
     "text": [
      "Product 22197 with quantity 56450 has high customer satisfaction.\n",
      "Product 84077 with quantity 53847 has high customer satisfaction.\n",
      "Product 85099B with quantity 47363 has high customer satisfaction.\n",
      "Product 85123A with quantity 38830 has high customer satisfaction.\n",
      "Product 84879 with quantity 36221 has high customer satisfaction.\n",
      "Product 21212 with quantity 36039 has high customer satisfaction.\n",
      "Product 23084 with quantity 30646 has high customer satisfaction.\n",
      "Product 22492 with quantity 26437 has high customer satisfaction.\n",
      "Product 22616 with quantity 26315 has high customer satisfaction.\n",
      "Product 21977 with quantity 24753 has high customer satisfaction.\n"
     ]
    }
   ],
   "source": [
    "# Calculate the total quantity bought for each product\n",
    "product_quantity = df.groupby('StockCode')['Quantity'].sum().reset_index()\n",
    "\n",
    "# Sort the products in descending order based on the total quantity bought\n",
    "sorted_products = product_quantity.sort_values(by='Quantity', ascending=False)\n",
    "\n",
    "# Analyze the top products with the highest quantity bought\n",
    "top_products = sorted_products.head(10)  # Change the number to get more or fewer top products\n",
    "\n",
    "# Use the information to inform your marketing campaigns\n",
    "for index, row in top_products.iterrows():\n",
    "    stock_code = row['StockCode']\n",
    "    quantity = row['Quantity']\n",
    "    # Perform marketing campaign actions for each top product\n",
    "    # You can access other columns like Description, UnitPrice, etc. to further customize your campaign\n",
    "    print(f\"Product {stock_code} with quantity {quantity} has high customer satisfaction.\")"
   ]
  },
  {
   "cell_type": "markdown",
   "metadata": {},
   "source": [
    "**Question:4** Can you identify any untapped market segments or demographics that we should consider targeting to drive growth?\n",
    "\n",
    "**Answer:** Conduct market research to identify untapped segments. Analyze customers, competitors, and emerging markets. Consider niche markets and innovation. Use this information to guide marketing strategies and drive growth.\n",
    "\n",
    "> To identify untapped market segments or demographics, we need to analyze the data and look for potential customer groups that have not been targeted or fully explored yet. These untapped segments can represent new opportunities for growth and expansion."
   ]
  },
  {
   "cell_type": "code",
   "execution_count": 24,
   "metadata": {},
   "outputs": [
    {
     "name": "stdout",
     "output_type": "stream",
     "text": [
      "Top 5 countries with the highest total revenue:\n",
      "['United Kingdom', 'United Kingdom', 'EIRE', 'Singapore', 'United Kingdom']\n",
      "Top 5 customer segments with the highest total revenue:\n",
      "[14096.0, 15098.0, 14911.0, 12744.0, 16029.0]\n"
     ]
    }
   ],
   "source": [
    "# Grouping the data by 'Country' and 'CustomerID' and calculating the total revenue\n",
    "revenue_by_customer = df.groupby(['Country', 'CustomerID']).agg({'UnitPrice': 'sum'}).reset_index()\n",
    "\n",
    "# Sorting the data by total revenue in descending order\n",
    "revenue_by_customer = revenue_by_customer.sort_values('UnitPrice', ascending=False)\n",
    "\n",
    "# Printing the top 5 countries with the highest total revenue\n",
    "top_countries = revenue_by_customer['Country'].head(5).tolist()\n",
    "print(\"Top 5 countries with the highest total revenue:\")\n",
    "print(top_countries)\n",
    "\n",
    "# Printing the top 5 customer segments with the highest total revenue\n",
    "top_customers = revenue_by_customer['CustomerID'].head(5).tolist()\n",
    "print(\"Top 5 customer segments with the highest total revenue:\")\n",
    "print(top_customers)"
   ]
  },
  {
   "cell_type": "code",
   "execution_count": null,
   "metadata": {},
   "outputs": [],
   "source": []
  }
 ],
 "metadata": {
  "kernelspec": {
   "display_name": "Python 3",
   "language": "python",
   "name": "python3"
  },
  "language_info": {
   "codemirror_mode": {
    "name": "ipython",
    "version": 3
   },
   "file_extension": ".py",
   "mimetype": "text/x-python",
   "name": "python",
   "nbconvert_exporter": "python",
   "pygments_lexer": "ipython3",
   "version": "3.11.5"
  },
  "orig_nbformat": 4
 },
 "nbformat": 4,
 "nbformat_minor": 2
}
