{
 "cells": [
  {
   "cell_type": "code",
   "execution_count": 1,
   "metadata": {},
   "outputs": [],
   "source": [
    "import numpy as np\n",
    "import pandas as pd\n",
    "import xarray as xr\n",
    "\n",
    "xr.set_options(display_expand_data=False)\n",
    "\n",
    "rng = np.random.default_rng(seed=0)  # we'll use this later"
   ]
  },
  {
   "cell_type": "code",
   "execution_count": 2,
   "metadata": {},
   "outputs": [
    {
     "data": {
      "text/plain": [
       "Generator(PCG64) at 0x1DABA8E2880"
      ]
     },
     "execution_count": 2,
     "metadata": {},
     "output_type": "execute_result"
    }
   ],
   "source": [
    "rng"
   ]
  },
  {
   "cell_type": "code",
   "execution_count": 3,
   "metadata": {},
   "outputs": [
    {
     "ename": "ImportError",
     "evalue": "tutorial.open_dataset depends on pooch to download and manage datasets. To proceed please install pooch.",
     "output_type": "error",
     "traceback": [
      "\u001b[1;31m---------------------------------------------------------------------------\u001b[0m",
      "\u001b[1;31mModuleNotFoundError\u001b[0m                       Traceback (most recent call last)",
      "File \u001b[1;32m~\\AppData\\Local\\Packages\\PythonSoftwareFoundation.Python.3.11_qbz5n2kfra8p0\\LocalCache\\local-packages\\Python311\\site-packages\\xarray\\tutorial.py:126\u001b[0m, in \u001b[0;36mopen_dataset\u001b[1;34m(name, cache, cache_dir, engine, **kws)\u001b[0m\n\u001b[0;32m    125\u001b[0m \u001b[39mtry\u001b[39;00m:\n\u001b[1;32m--> 126\u001b[0m     \u001b[39mimport\u001b[39;00m \u001b[39mpooch\u001b[39;00m\n\u001b[0;32m    127\u001b[0m \u001b[39mexcept\u001b[39;00m \u001b[39mImportError\u001b[39;00m \u001b[39mas\u001b[39;00m e:\n",
      "\u001b[1;31mModuleNotFoundError\u001b[0m: No module named 'pooch'",
      "\nThe above exception was the direct cause of the following exception:\n",
      "\u001b[1;31mImportError\u001b[0m                               Traceback (most recent call last)",
      "\u001b[1;32mc:\\Users\\hp\\OneDrive\\Desktop\\Arun\\Data-analysis-projects\\xarray-1.ipynb Cell 3\u001b[0m line \u001b[0;36m1\n\u001b[1;32m----> <a href='vscode-notebook-cell:/c%3A/Users/hp/OneDrive/Desktop/Arun/Data-analysis-projects/xarray-1.ipynb#W2sZmlsZQ%3D%3D?line=0'>1</a>\u001b[0m ds \u001b[39m=\u001b[39m xr\u001b[39m.\u001b[39;49mtutorial\u001b[39m.\u001b[39;49mload_dataset(\u001b[39m\"\u001b[39;49m\u001b[39mair_temperature\u001b[39;49m\u001b[39m\"\u001b[39;49m)\n\u001b[0;32m      <a href='vscode-notebook-cell:/c%3A/Users/hp/OneDrive/Desktop/Arun/Data-analysis-projects/xarray-1.ipynb#W2sZmlsZQ%3D%3D?line=1'>2</a>\u001b[0m ds\n",
      "File \u001b[1;32m~\\AppData\\Local\\Packages\\PythonSoftwareFoundation.Python.3.11_qbz5n2kfra8p0\\LocalCache\\local-packages\\Python311\\site-packages\\xarray\\tutorial.py:206\u001b[0m, in \u001b[0;36mload_dataset\u001b[1;34m(*args, **kwargs)\u001b[0m\n\u001b[0;32m    169\u001b[0m \u001b[39mdef\u001b[39;00m \u001b[39mload_dataset\u001b[39m(\u001b[39m*\u001b[39margs, \u001b[39m*\u001b[39m\u001b[39m*\u001b[39mkwargs) \u001b[39m-\u001b[39m\u001b[39m>\u001b[39m Dataset:\n\u001b[0;32m    170\u001b[0m \u001b[39m    \u001b[39m\u001b[39m\"\"\"\u001b[39;00m\n\u001b[0;32m    171\u001b[0m \u001b[39m    Open, load into memory, and close a dataset from the online repository\u001b[39;00m\n\u001b[0;32m    172\u001b[0m \u001b[39m    (requires internet).\u001b[39;00m\n\u001b[1;32m   (...)\u001b[0m\n\u001b[0;32m    204\u001b[0m \u001b[39m    load_dataset\u001b[39;00m\n\u001b[0;32m    205\u001b[0m \u001b[39m    \"\"\"\u001b[39;00m\n\u001b[1;32m--> 206\u001b[0m     \u001b[39mwith\u001b[39;00m open_dataset(\u001b[39m*\u001b[39;49margs, \u001b[39m*\u001b[39;49m\u001b[39m*\u001b[39;49mkwargs) \u001b[39mas\u001b[39;00m ds:\n\u001b[0;32m    207\u001b[0m         \u001b[39mreturn\u001b[39;00m ds\u001b[39m.\u001b[39mload()\n",
      "File \u001b[1;32m~\\AppData\\Local\\Packages\\PythonSoftwareFoundation.Python.3.11_qbz5n2kfra8p0\\LocalCache\\local-packages\\Python311\\site-packages\\xarray\\tutorial.py:128\u001b[0m, in \u001b[0;36mopen_dataset\u001b[1;34m(name, cache, cache_dir, engine, **kws)\u001b[0m\n\u001b[0;32m    126\u001b[0m     \u001b[39mimport\u001b[39;00m \u001b[39mpooch\u001b[39;00m\n\u001b[0;32m    127\u001b[0m \u001b[39mexcept\u001b[39;00m \u001b[39mImportError\u001b[39;00m \u001b[39mas\u001b[39;00m e:\n\u001b[1;32m--> 128\u001b[0m     \u001b[39mraise\u001b[39;00m \u001b[39mImportError\u001b[39;00m(\n\u001b[0;32m    129\u001b[0m         \u001b[39m\"\u001b[39m\u001b[39mtutorial.open_dataset depends on pooch to download and manage datasets.\u001b[39m\u001b[39m\"\u001b[39m\n\u001b[0;32m    130\u001b[0m         \u001b[39m\"\u001b[39m\u001b[39m To proceed please install pooch.\u001b[39m\u001b[39m\"\u001b[39m\n\u001b[0;32m    131\u001b[0m     ) \u001b[39mfrom\u001b[39;00m \u001b[39me\u001b[39;00m\n\u001b[0;32m    133\u001b[0m logger \u001b[39m=\u001b[39m pooch\u001b[39m.\u001b[39mget_logger()\n\u001b[0;32m    134\u001b[0m logger\u001b[39m.\u001b[39msetLevel(\u001b[39m\"\u001b[39m\u001b[39mWARNING\u001b[39m\u001b[39m\"\u001b[39m)\n",
      "\u001b[1;31mImportError\u001b[0m: tutorial.open_dataset depends on pooch to download and manage datasets. To proceed please install pooch."
     ]
    }
   ],
   "source": [
    "ds = xr.tutorial.load_dataset(\"air_temperature\")\n",
    "ds"
   ]
  },
  {
   "cell_type": "code",
   "execution_count": null,
   "metadata": {},
   "outputs": [],
   "source": []
  }
 ],
 "metadata": {
  "kernelspec": {
   "display_name": "Python 3",
   "language": "python",
   "name": "python3"
  },
  "language_info": {
   "codemirror_mode": {
    "name": "ipython",
    "version": 3
   },
   "file_extension": ".py",
   "mimetype": "text/x-python",
   "name": "python",
   "nbconvert_exporter": "python",
   "pygments_lexer": "ipython3",
   "version": "3.11.6"
  }
 },
 "nbformat": 4,
 "nbformat_minor": 2
}
